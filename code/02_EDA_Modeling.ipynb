{
 "cells": [
  {
   "cell_type": "code",
   "execution_count": 1,
   "id": "a9888e37-0371-49cd-8c45-f53555b97d59",
   "metadata": {},
   "outputs": [
    {
     "ename": "ModuleNotFoundError",
     "evalue": "No module named 'yellowbrick'",
     "output_type": "error",
     "traceback": [
      "\u001b[0;31m---------------------------------------------------------------------------\u001b[0m",
      "\u001b[0;31mModuleNotFoundError\u001b[0m                       Traceback (most recent call last)",
      "\u001b[0;32m/var/folders/t7/10pc37nd7nd77w12vtbk6_5m0000gn/T/ipykernel_28315/1623294598.py\u001b[0m in \u001b[0;36m<module>\u001b[0;34m\u001b[0m\n\u001b[1;32m     15\u001b[0m \u001b[0;32mfrom\u001b[0m \u001b[0msklearn\u001b[0m\u001b[0;34m.\u001b[0m\u001b[0mpreprocessing\u001b[0m \u001b[0;32mimport\u001b[0m \u001b[0mStandardScaler\u001b[0m\u001b[0;34m,\u001b[0m \u001b[0mLabelEncoder\u001b[0m\u001b[0;34m\u001b[0m\u001b[0;34m\u001b[0m\u001b[0m\n\u001b[1;32m     16\u001b[0m \u001b[0;34m\u001b[0m\u001b[0m\n\u001b[0;32m---> 17\u001b[0;31m \u001b[0;32mfrom\u001b[0m \u001b[0myellowbrick\u001b[0m\u001b[0;34m.\u001b[0m\u001b[0mcluster\u001b[0m \u001b[0;32mimport\u001b[0m \u001b[0mKElbowVisualizer\u001b[0m\u001b[0;34m,\u001b[0m \u001b[0mSilhouetteVisualizer\u001b[0m\u001b[0;34m\u001b[0m\u001b[0;34m\u001b[0m\u001b[0m\n\u001b[0m\u001b[1;32m     18\u001b[0m \u001b[0;34m\u001b[0m\u001b[0m\n\u001b[1;32m     19\u001b[0m \u001b[0mget_ipython\u001b[0m\u001b[0;34m(\u001b[0m\u001b[0;34m)\u001b[0m\u001b[0;34m.\u001b[0m\u001b[0mrun_line_magic\u001b[0m\u001b[0;34m(\u001b[0m\u001b[0;34m'matplotlib'\u001b[0m\u001b[0;34m,\u001b[0m \u001b[0;34m'inline'\u001b[0m\u001b[0;34m)\u001b[0m\u001b[0;34m\u001b[0m\u001b[0;34m\u001b[0m\u001b[0m\n",
      "\u001b[0;31mModuleNotFoundError\u001b[0m: No module named 'yellowbrick'"
     ]
    }
   ],
   "source": [
    "# Imports\n",
    "import pandas as pd\n",
    "import numpy as np\n",
    "from scipy.stats import zscore\n",
    "from scipy.cluster.hierarchy import dendrogram, linkage, cophenet\n",
    "from scipy.spatial.distance import cdist, pdist\n",
    "\n",
    "import seaborn as sns\n",
    "import matplotlib.pyplot as plt\n",
    "import matplotlib\n",
    "\n",
    "from sklearn.datasets import make_blobs\n",
    "from sklearn.cluster import KMeans, AgglomerativeClustering\n",
    "from sklearn.metrics import silhouette_score\n",
    "from sklearn.preprocessing import StandardScaler, LabelEncoder\n",
    "\n",
    "from yellowbrick.cluster import KElbowVisualizer, SilhouetteVisualizer\n",
    "\n",
    "%matplotlib inline"
   ]
  },
  {
   "cell_type": "code",
   "execution_count": null,
   "id": "70d8919b-e637-43d1-8661-464a0e913456",
   "metadata": {},
   "outputs": [],
   "source": [
    "# reading in final dataframe\n",
    "df = pd.read_csv('../data/cleaned_data/kahuna.csv')"
   ]
  },
  {
   "cell_type": "code",
   "execution_count": null,
   "id": "e06aa3dd-8a95-4a68-b96f-f9f3d371fc15",
   "metadata": {},
   "outputs": [],
   "source": [
    "def histogram_boxplot(data, feature, figsize=(12, 7), kde=False, bins=None):\n",
    "    \"\"\"\n",
    "    Boxplot and histogram combined\n",
    "\n",
    "    data: dataframe\n",
    "    feature: dataframe column\n",
    "    figsize: size of figure (default (12,7))\n",
    "    kde: whether to the show density curve (default False)\n",
    "    bins: number of bins for histogram (default None)\n",
    "    \"\"\"\n",
    "    f2, (ax_box2, ax_hist2) = plt.subplots(\n",
    "        nrows=2,  # Number of rows of the subplot grid= 2\n",
    "        sharex=True,  # x-axis will be shared among all subplots\n",
    "        gridspec_kw={\"height_ratios\": (0.25, 0.75)},\n",
    "        figsize=figsize,\n",
    "    )  # creating the 2 subplots\n",
    "    sns.boxplot(\n",
    "        data=data, x=feature, ax=ax_box2, showmeans=True, color=\"violet\"\n",
    "    )  # boxplot will be created and a star will indicate the mean value of the column\n",
    "    sns.histplot(\n",
    "        data=data, x=feature, kde=kde, ax=ax_hist2, bins=bins, palette=\"winter\"\n",
    "    ) if bins else sns.histplot(\n",
    "        data=data, x=feature, kde=kde, ax=ax_hist2\n",
    "    )  # For histogram\n",
    "    ax_hist2.axvline(\n",
    "        data[feature].mean(), color=\"green\", linestyle=\"--\"\n",
    "    )  # Add mean to the histogram\n",
    "    ax_hist2.axvline(\n",
    "        data[feature].median(), color=\"black\", linestyle=\"-\"\n",
    "    )  # Add median to the histogram"
   ]
  },
  {
   "cell_type": "markdown",
   "id": "dc7d2992-da0a-4826-adb7-5f8caa91b75c",
   "metadata": {},
   "source": [
    "-------------------------"
   ]
  },
  {
   "cell_type": "markdown",
   "id": "f5095e77-2352-4218-9c66-5a16abb80332",
   "metadata": {},
   "source": [
    "## KMeans Clustering"
   ]
  },
  {
   "cell_type": "code",
   "execution_count": null,
   "id": "51445b12-209d-4380-aee4-a1953a3c5462",
   "metadata": {},
   "outputs": [],
   "source": [
    "X = df.drop(columns=['Entity', 'Year'])\n",
    "sc = StandardScaler()\n",
    "X_sc = sc.fit_transform(X)"
   ]
  },
  {
   "cell_type": "code",
   "execution_count": null,
   "id": "28f65315-61d8-4d29-8b00-aa0f6880e64f",
   "metadata": {},
   "outputs": [],
   "source": [
    "km = KMeans(n_clusters=4, random_state=42)\n",
    "km.fit(X_sc)"
   ]
  },
  {
   "cell_type": "code",
   "execution_count": null,
   "id": "41eb05e1-3244-4847-9b22-a01e19c291a2",
   "metadata": {},
   "outputs": [],
   "source": [
    "km.cluster_centers_;"
   ]
  },
  {
   "cell_type": "code",
   "execution_count": null,
   "id": "b949339a-343c-4f79-b40a-29241da3174d",
   "metadata": {},
   "outputs": [],
   "source": [
    "df['cluster'] = km.labels_\n",
    "df.head()"
   ]
  },
  {
   "cell_type": "code",
   "execution_count": null,
   "id": "d2d7f327-8a39-41cc-92b1-513691ee07a1",
   "metadata": {},
   "outputs": [],
   "source": [
    "# comparision of numerical representations of clusters means\n",
    "df.groupby('cluster').mean().T"
   ]
  },
  {
   "cell_type": "code",
   "execution_count": null,
   "id": "e519c0ef-a7b4-4142-bd17-9b5c48b68161",
   "metadata": {},
   "outputs": [],
   "source": [
    "columns = df.columns.drop(['Entity', 'cluster', 'Year'])"
   ]
  },
  {
   "cell_type": "code",
   "execution_count": null,
   "id": "101c520d-b967-4674-be6c-7363dea02fb2",
   "metadata": {},
   "outputs": [],
   "source": [
    "km.cluster_centers_;"
   ]
  },
  {
   "cell_type": "code",
   "execution_count": null,
   "id": "7044882e-f98f-41b5-a26b-7b936983d655",
   "metadata": {},
   "outputs": [],
   "source": [
    "df.shape"
   ]
  },
  {
   "cell_type": "code",
   "execution_count": null,
   "id": "9cdf1946-85df-45c9-b99d-2d8868fa87e9",
   "metadata": {},
   "outputs": [],
   "source": [
    "centroids = pd.DataFrame(\n",
    "    sc.inverse_transform(km.cluster_centers_),\n",
    "    columns=columns\n",
    ")\n",
    "centroids"
   ]
  },
  {
   "cell_type": "code",
   "execution_count": null,
   "id": "8c0f7aa2-a32e-494e-8d10-346cfc750083",
   "metadata": {},
   "outputs": [],
   "source": [
    "scores = []\n",
    "for k in range(2, 31):\n",
    "    cl = KMeans(n_clusters=k)\n",
    "    cl.fit(X_sc)\n",
    "    inertia = cl.inertia_\n",
    "    sil = silhouette_score(X_sc, cl.labels_)\n",
    "    scores.append([k, inertia, sil])\n",
    "    \n",
    "score_df = pd.DataFrame(scores)\n",
    "score_df.columns = ['k', 'inertia', 'silhouette']"
   ]
  },
  {
   "cell_type": "code",
   "execution_count": null,
   "id": "1cfe7cc1-7963-4fdd-bdc4-d068fc4773f4",
   "metadata": {},
   "outputs": [],
   "source": [
    "score_df.head(11)"
   ]
  },
  {
   "cell_type": "code",
   "execution_count": null,
   "id": "81381fef-2b3c-4862-a2da-25d4a2cb2dfb",
   "metadata": {},
   "outputs": [],
   "source": [
    "fig, axes = plt.subplots(1, 2, figsize=(14, 7))\n",
    "axes[0].plot(score_df.k, score_df.inertia)\n",
    "axes[0].set_title('Inertia over k')\n",
    "axes[1].plot(score_df.k, score_df.silhouette);\n",
    "axes[1].set_title('Silhouette Score over k');"
   ]
  },
  {
   "cell_type": "code",
   "execution_count": null,
   "id": "c0fb78b7-7a75-4a75-9b0e-ab2cca9fbcd1",
   "metadata": {},
   "outputs": [],
   "source": [
    "# group is the largest cluster by far\n",
    "df['cluster'].value_counts()"
   ]
  },
  {
   "cell_type": "code",
   "execution_count": null,
   "id": "68a71a6b-5578-4a53-9f32-66f770b4cae2",
   "metadata": {},
   "outputs": [],
   "source": [
    "km_10 = KMeans(n_clusters=10, random_state=42)\n",
    "km_10.fit(X_sc)"
   ]
  },
  {
   "cell_type": "code",
   "execution_count": null,
   "id": "d87ab688-d5cb-4a64-b24d-8d97ec72dbff",
   "metadata": {},
   "outputs": [],
   "source": [
    "df['clusterx10'] = km_10.labels_"
   ]
  },
  {
   "cell_type": "code",
   "execution_count": null,
   "id": "b8f7a072-1f0a-4a86-8617-6d1d1f8e7422",
   "metadata": {},
   "outputs": [],
   "source": [
    "df['clusterx10'].value_counts()"
   ]
  },
  {
   "cell_type": "code",
   "execution_count": null,
   "id": "23d60ca3-6b09-46a6-b9f0-7e6ca2024e78",
   "metadata": {},
   "outputs": [],
   "source": [
    "df.groupby(by='clusterx10').mean().T.plot(kind='barh')"
   ]
  },
  {
   "cell_type": "code",
   "execution_count": null,
   "id": "0a3d88b6-cc2b-495e-9539-f0926d267bd9",
   "metadata": {},
   "outputs": [],
   "source": [
    "df['Entity'].value_counts()"
   ]
  },
  {
   "cell_type": "code",
   "execution_count": null,
   "id": "5b219463-dc57-4b6e-9315-7f44218f8ea1",
   "metadata": {},
   "outputs": [],
   "source": [
    "df.groupby('cluster').mean().T.plot(kind='barh')\n",
    "plt.figure(figsize=(40,20))\n"
   ]
  },
  {
   "cell_type": "code",
   "execution_count": null,
   "id": "fa96aeb2-70d2-498a-b5dc-40f365ec9fe9",
   "metadata": {},
   "outputs": [],
   "source": [
    "lis = [1,2,3,4,4]\n",
    "lis.reverse()\n",
    "lis"
   ]
  },
  {
   "cell_type": "code",
   "execution_count": null,
   "id": "c8ec89ce-3625-4d39-a967-3e237b9575d3",
   "metadata": {},
   "outputs": [],
   "source": [
    "rev_columns = list(columns.astype(str))\n",
    "rev_columns.reverse()"
   ]
  },
  {
   "cell_type": "code",
   "execution_count": null,
   "id": "1dda716c-2545-48c7-9dd3-a2b8913fb959",
   "metadata": {},
   "outputs": [],
   "source": [
    "china = df[df['Entity'] == 'China']"
   ]
  },
  {
   "cell_type": "code",
   "execution_count": null,
   "id": "c026c528-48e5-494d-a42a-acd0dacfc6fa",
   "metadata": {},
   "outputs": [],
   "source": [
    "plt.bar(china['Year'], china['Deaths %'])\n",
    "plt.xlabel('Year')\n",
    "plt.ylabel('Death %')\n",
    "plt.title('China: Death % over Time')"
   ]
  },
  {
   "cell_type": "code",
   "execution_count": null,
   "id": "21636ed4-5a96-4a18-8cb7-ff40524bb154",
   "metadata": {
    "tags": []
   },
   "outputs": [],
   "source": [
    "plt.scatter(china['Year'], china['Deaths %'])\n",
    "plt.xlabel('Year')\n",
    "plt.ylabel('Death %')\n",
    "plt.title('China: Death % over Time')"
   ]
  },
  {
   "cell_type": "code",
   "execution_count": null,
   "id": "92765df2",
   "metadata": {
    "tags": []
   },
   "outputs": [],
   "source": [
    "for x, y in zip(columns, rev_columns):\n",
    "    colors = [\"red\", \"green\", \"blue\"]\n",
    "    df['color'] = df['cluster'].map(lambda p: colors[p])\n",
    "\n",
    "    ax = df.plot(    \n",
    "        kind=\"scatter\", \n",
    "        x=x, y=y,\n",
    "        figsize=(10,8),\n",
    "        c = df['color']\n",
    "    )\n",
    "    centroids.plot(\n",
    "    kind=\"scatter\", \n",
    "    x=x, y=y, \n",
    "    marker=\"*\", c=[\"maroon\", \"darkgreen\", \"navy\"], s=550,\n",
    "    ax=ax\n",
    "    );"
   ]
  },
  {
   "cell_type": "markdown",
   "id": "f6572054-37ee-47b2-85a3-62e95629bad9",
   "metadata": {},
   "source": [
    "### "
   ]
  },
  {
   "cell_type": "code",
   "execution_count": null,
   "id": "bba19c4a-2f9b-4734-984b-8ab5737a4b34",
   "metadata": {},
   "outputs": [],
   "source": [
    "plt.figure(figsize=(15, 7))\n",
    "sns.heatmap(df.corr(), annot=True, vmin=-1, vmax=1, fmt=\".2f\", cmap=\"Spectral\")\n",
    "plt.show()"
   ]
  },
  {
   "cell_type": "code",
   "execution_count": null,
   "id": "1945909e-8de3-43b4-8f41-a41fe182f62e",
   "metadata": {},
   "outputs": [],
   "source": [
    "le = LabelEncoder()\n",
    "df['Entity'] = le.fit_transform(df['Entity'])\n",
    "scaler = StandardScaler()\n",
    "subset = df.copy()\n",
    "subset.color = subset.color.map({'red':1, 'green':2, 'blue':3})\n",
    "subset_scaled = scaler.fit_transform(subset)\n",
    "subset_scaled_df = pd.DataFrame(subset_scaled, columns=subset.columns)\n",
    "k_means_df = subset_scaled_df.copy()"
   ]
  },
  {
   "cell_type": "code",
   "execution_count": null,
   "id": "db42433f-4321-409c-82d6-b1b1ebc25f9b",
   "metadata": {},
   "outputs": [],
   "source": [
    "model = KMeans(random_state=1)\n",
    "visualizer = KElbowVisualizer(model, k=(2, 30), metric=\"silhouette\", timings=True)\n",
    "visualizer.fit(k_means_df)  # fit the data to the visualizer\n",
    "visualizer.show()  # finalize and render figure"
   ]
  },
  {
   "cell_type": "code",
   "execution_count": null,
   "id": "88d175b6-8a33-4874-bca5-65ae49bde658",
   "metadata": {},
   "outputs": [],
   "source": [
    "sil_score = []\n",
    "cluster_list = range(2, 10)\n",
    "for n_clusters in cluster_list:\n",
    "    clusterer = KMeans(n_clusters=n_clusters, random_state=1)\n",
    "    preds = clusterer.fit_predict((subset_scaled_df))\n",
    "    score = silhouette_score(k_means_df, preds)\n",
    "    sil_score.append(score)\n",
    "    print(\"For n_clusters = {}, the silhouette score is {})\".format(n_clusters, score))"
   ]
  },
  {
   "cell_type": "code",
   "execution_count": null,
   "id": "605dcdb8-969c-4453-b096-e521ceed8101",
   "metadata": {},
   "outputs": [],
   "source": [
    "# finding optimal no. of clusters with silhouette coefficients\n",
    "visualizer = SilhouetteVisualizer(KMeans(5, random_state=1))\n",
    "visualizer.fit(k_means_df)\n",
    "visualizer.show()"
   ]
  },
  {
   "cell_type": "code",
   "execution_count": null,
   "id": "07641103-7e36-4812-b215-1984c3c1d35f",
   "metadata": {},
   "outputs": [],
   "source": [
    "# finding optimal no. of clusters with silhouette coefficients\n",
    "visualizer = SilhouetteVisualizer(KMeans(4, random_state=1))\n",
    "visualizer.fit(k_means_df)\n",
    "visualizer.show()"
   ]
  },
  {
   "cell_type": "code",
   "execution_count": null,
   "id": "d11ffeb2-b0f8-4c62-87db-f83faaad219a",
   "metadata": {},
   "outputs": [],
   "source": [
    "# finding optimal no. of clusters with silhouette coefficients\n",
    "visualizer = SilhouetteVisualizer(KMeans(3, random_state=1))\n",
    "visualizer.fit(k_means_df)\n",
    "visualizer.show()"
   ]
  },
  {
   "cell_type": "code",
   "execution_count": null,
   "id": "fac45463-ce65-4041-ba8b-ab663e9919f3",
   "metadata": {},
   "outputs": [],
   "source": [
    "# finding optimal no. of clusters with silhouette coefficients\n",
    "visualizer = SilhouetteVisualizer(KMeans(2, random_state=1))\n",
    "visualizer.fit(k_means_df)\n",
    "visualizer.show()"
   ]
  },
  {
   "cell_type": "markdown",
   "id": "2e2e2edb-ef79-4d6e-852f-e10397e4c8af",
   "metadata": {},
   "source": [
    "**Observations**\n",
    "\n",
    "- The silhouette coefficient for 3 clusters is the highest.\n",
    "- We can also see that the score for 3 clusters is close to the average score and the shape of the clusters is very uniform in SilhouetteVisualizer, even though the magnitude may be different.\n",
    "- So, we will proceed with 3 clusters."
   ]
  },
  {
   "cell_type": "markdown",
   "id": "c1325d99-0705-4e04-857f-8ce054784f53",
   "metadata": {},
   "source": [
    "## Hierarchical Clustering"
   ]
  },
  {
   "cell_type": "code",
   "execution_count": null,
   "id": "bbfc9bb5-0e7a-4e2c-a38b-7ac0ade064ae",
   "metadata": {},
   "outputs": [],
   "source": [
    "df.color = df.color.map({'red':1, 'green':2, 'blue':3})"
   ]
  },
  {
   "cell_type": "code",
   "execution_count": null,
   "id": "30181da7-4bf3-4e28-b864-f93e277aa035",
   "metadata": {},
   "outputs": [],
   "source": [
    "ss = StandardScaler()\n",
    "df_sc = ss.fit_transform(df)\n",
    "\n",
    "model = AgglomerativeClustering(distance_threshold=100, affinity='euclidean',  linkage='average', n_clusters =None)\n",
    "model.fit(df_sc)\n",
    "df['labels'] = model.labels_\n",
    "df_clust = df.groupby(['labels'])"
   ]
  },
  {
   "cell_type": "code",
   "execution_count": null,
   "id": "da6298de-8b35-4a74-b467-d15405e334a1",
   "metadata": {},
   "outputs": [],
   "source": [
    "Z = linkage(df_sc, metric='euclidean', method='average')\n",
    "c, coph_dists = cophenet(Z , pdist(df_sc))"
   ]
  },
  {
   "cell_type": "code",
   "execution_count": null,
   "id": "4330c084-7600-415e-8cfe-8f05cdce7c3c",
   "metadata": {},
   "outputs": [],
   "source": [
    "%%time\n",
    "plt.figure(figsize=(25, 5))\n",
    "plt.title('Agglomerative Hierarchical Clustering Dendogram')\n",
    "plt.xlabel('sample index')\n",
    "plt.ylabel('Distance')\n",
    "dendrogram(Z, leaf_rotation=90.,color_threshold = 40, truncate_mode ='level' ,leaf_font_size=8. )\n",
    "plt.tight_layout()"
   ]
  }
 ],
 "metadata": {
  "kernelspec": {
   "display_name": "Python 3 (ipykernel)",
   "language": "python",
   "name": "python3"
  },
  "language_info": {
   "codemirror_mode": {
    "name": "ipython",
    "version": 3
   },
   "file_extension": ".py",
   "mimetype": "text/x-python",
   "name": "python",
   "nbconvert_exporter": "python",
   "pygments_lexer": "ipython3",
   "version": "3.9.7"
  }
 },
 "nbformat": 4,
 "nbformat_minor": 5
}
